{
 "cells": [
  {
   "cell_type": "code",
   "execution_count": 94,
   "metadata": {},
   "outputs": [],
   "source": [
    "from operator import xor"
   ]
  },
  {
   "cell_type": "code",
   "execution_count": 160,
   "metadata": {},
   "outputs": [],
   "source": [
    "def check1(lines):\n",
    "    for x in lines:\n",
    "        for y in lines:\n",
    "            for z in lines:\n",
    "                if (int(x) + int(y) + int(z) == 2020):\n",
    "                    print(\"The numbers are {} and {} and {} and product is {}\".format(int(x), int(y), int(z), int(x)*int(y)*int(z)))"
   ]
  },
  {
   "cell_type": "code",
   "execution_count": 162,
   "metadata": {},
   "outputs": [
    {
     "name": "stdout",
     "output_type": "stream",
     "text": [
      "The numbers are 979 and 366 and 675 and product is 241861950\n",
      "The numbers are 979 and 675 and 366 and product is 241861950\n",
      "The numbers are 366 and 979 and 675 and product is 241861950\n",
      "The numbers are 366 and 675 and 979 and product is 241861950\n",
      "The numbers are 675 and 979 and 366 and product is 241861950\n",
      "The numbers are 675 and 366 and 979 and product is 241861950\n"
     ]
    }
   ],
   "source": [
    "lines = ['1721\\n','979\\n','366\\n','299\\n','675\\n','1456\\n']\n",
    "check1(lines)"
   ]
  },
  {
   "cell_type": "code",
   "execution_count": 163,
   "metadata": {},
   "outputs": [],
   "source": [
    "with open(\"inputDay1.txt\",\"r\") as f:\n",
    "    lines = f.readlines()"
   ]
  },
  {
   "cell_type": "code",
   "execution_count": 164,
   "metadata": {},
   "outputs": [
    {
     "name": "stdout",
     "output_type": "stream",
     "text": [
      "The numbers are 295 and 509 and 1216 and product is 182588480\n",
      "The numbers are 295 and 1216 and 509 and product is 182588480\n",
      "The numbers are 509 and 295 and 1216 and product is 182588480\n",
      "The numbers are 509 and 1216 and 295 and product is 182588480\n",
      "The numbers are 1216 and 295 and 509 and product is 182588480\n",
      "The numbers are 1216 and 509 and 295 and product is 182588480\n"
     ]
    }
   ],
   "source": [
    "check1(lines)"
   ]
  },
  {
   "cell_type": "code",
   "execution_count": 125,
   "metadata": {},
   "outputs": [
    {
     "name": "stdout",
     "output_type": "stream",
     "text": [
      "391\n"
     ]
    }
   ],
   "source": [
    "check2(lines)"
   ]
  },
  {
   "cell_type": "code",
   "execution_count": 134,
   "metadata": {},
   "outputs": [],
   "source": [
    "for number in lines:\n",
    "#     print(2020 - int(number))\n",
    "    if (2020 - int(number)) in lines:\n",
    "        print (int(number) * int(2020 - number))"
   ]
  },
  {
   "cell_type": "code",
   "execution_count": null,
   "metadata": {},
   "outputs": [],
   "source": []
  }
 ],
 "metadata": {
  "kernelspec": {
   "display_name": "Python 3",
   "language": "python",
   "name": "python3"
  },
  "language_info": {
   "codemirror_mode": {
    "name": "ipython",
    "version": 3
   },
   "file_extension": ".py",
   "mimetype": "text/x-python",
   "name": "python",
   "nbconvert_exporter": "python",
   "pygments_lexer": "ipython3",
   "version": "3.8.5"
  }
 },
 "nbformat": 4,
 "nbformat_minor": 4
}
